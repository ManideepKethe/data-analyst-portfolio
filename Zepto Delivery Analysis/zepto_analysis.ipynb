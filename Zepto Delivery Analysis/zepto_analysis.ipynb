{
 "cells": [
  {
   "cell_type": "markdown",
   "id": "19626e20",
   "metadata": {},
   "source": [
    "## Zepto Delivery Performance Analysis\n",
    " **Goal**: Analyze delivery timeliness and its impact on customer churn"
   ]
  },
  {
   "cell_type": "markdown",
   "id": "51741879",
   "metadata": {},
   "source": [
    "## 1. Import Libraries"
   ]
  },
  {
   "cell_type": "code",
   "execution_count": 1,
   "id": "d93e5ab9",
   "metadata": {},
   "outputs": [],
   "source": [
    "import pandas as pd\n",
    "import numpy as np\n",
    "import matplotlib.pyplot as plt\n",
    "import seaborn as sns\n",
    "from scipy import stats\n",
    "%matplotlib inline"
   ]
  },
  {
   "cell_type": "markdown",
   "id": "0764d76d",
   "metadata": {},
   "source": [
    "## 2. Load Data"
   ]
  },
  {
   "cell_type": "code",
   "execution_count": 2,
   "id": "246ca016",
   "metadata": {},
   "outputs": [],
   "source": [
    "orders = pd.read_csv('orders.csv', parse_dates=['order_timestamp', 'delivery_timestamp'])\n",
    "customers = pd.read_csv('customers.csv', parse_dates=['first_order_date'])"
   ]
  },
  {
   "cell_type": "markdown",
   "id": "feb4874c",
   "metadata": {},
   "source": [
    "## 3. Data Cleaning & Feature Engineering\n",
    "### Calculate delivery time and late status"
   ]
  },
  {
   "cell_type": "code",
   "execution_count": 3,
   "id": "d9f4c8e9",
   "metadata": {},
   "outputs": [],
   "source": [
    "orders['delivery_time'] = (orders['delivery_timestamp'] - orders['order_timestamp']).dt.total_seconds()/60\n",
    "orders['is_late'] = np.where(orders['delivery_time'] > 10, 1, 0)"
   ]
  },
  {
   "cell_type": "markdown",
   "id": "16ef9474",
   "metadata": {},
   "source": [
    "### Merge with customer data"
   ]
  },
  {
   "cell_type": "code",
   "execution_count": 4,
   "id": "e3dc4e54",
   "metadata": {},
   "outputs": [],
   "source": [
    "merged_df = pd.merge(orders, customers, on='customer_id', how='left')"
   ]
  },
  {
   "cell_type": "markdown",
   "id": "ca6eadfe",
   "metadata": {},
   "source": [
    "## 4. Delivery Performance Analysis"
   ]
  },
  {
   "cell_type": "markdown",
   "id": "d249c3f5",
   "metadata": {},
   "source": [
    "### Overall late delivery rate"
   ]
  },
  {
   "cell_type": "code",
   "execution_count": 5,
   "id": "84b70e43",
   "metadata": {},
   "outputs": [
    {
     "name": "stdout",
     "output_type": "stream",
     "text": [
      "Overall Late Delivery Rate: 9.82%\n"
     ]
    }
   ],
   "source": [
    "late_rate = orders['is_late'].mean()\n",
    "print(f\"Overall Late Delivery Rate: {late_rate:.2%}\")"
   ]
  },
  {
   "cell_type": "markdown",
   "id": "6136d01f",
   "metadata": {},
   "source": [
    "### Late deliveries by location and product category"
   ]
  },
  {
   "cell_type": "code",
   "execution_count": 6,
   "id": "0fdf1fa6",
   "metadata": {},
   "outputs": [
    {
     "data": {
      "text/html": [
       "<div>\n",
       "<style scoped>\n",
       "    .dataframe tbody tr th:only-of-type {\n",
       "        vertical-align: middle;\n",
       "    }\n",
       "\n",
       "    .dataframe tbody tr th {\n",
       "        vertical-align: top;\n",
       "    }\n",
       "\n",
       "    .dataframe thead th {\n",
       "        text-align: right;\n",
       "    }\n",
       "</style>\n",
       "<table border=\"1\" class=\"dataframe\">\n",
       "  <thead>\n",
       "    <tr style=\"text-align: right;\">\n",
       "      <th></th>\n",
       "      <th>location</th>\n",
       "      <th>product_category</th>\n",
       "      <th>late_rate</th>\n",
       "      <th>total_orders</th>\n",
       "    </tr>\n",
       "  </thead>\n",
       "  <tbody>\n",
       "    <tr>\n",
       "      <th>6</th>\n",
       "      <td>Delhi</td>\n",
       "      <td>Pharmacy</td>\n",
       "      <td>0.122241</td>\n",
       "      <td>589</td>\n",
       "    </tr>\n",
       "    <tr>\n",
       "      <th>15</th>\n",
       "      <td>Mumbai</td>\n",
       "      <td>Snacks</td>\n",
       "      <td>0.115132</td>\n",
       "      <td>608</td>\n",
       "    </tr>\n",
       "    <tr>\n",
       "      <th>1</th>\n",
       "      <td>Bangalore</td>\n",
       "      <td>Groceries</td>\n",
       "      <td>0.107973</td>\n",
       "      <td>602</td>\n",
       "    </tr>\n",
       "    <tr>\n",
       "      <th>14</th>\n",
       "      <td>Mumbai</td>\n",
       "      <td>Pharmacy</td>\n",
       "      <td>0.106280</td>\n",
       "      <td>621</td>\n",
       "    </tr>\n",
       "    <tr>\n",
       "      <th>12</th>\n",
       "      <td>Mumbai</td>\n",
       "      <td>Electronics</td>\n",
       "      <td>0.105691</td>\n",
       "      <td>615</td>\n",
       "    </tr>\n",
       "    <tr>\n",
       "      <th>4</th>\n",
       "      <td>Delhi</td>\n",
       "      <td>Electronics</td>\n",
       "      <td>0.102686</td>\n",
       "      <td>633</td>\n",
       "    </tr>\n",
       "    <tr>\n",
       "      <th>3</th>\n",
       "      <td>Bangalore</td>\n",
       "      <td>Snacks</td>\n",
       "      <td>0.101161</td>\n",
       "      <td>603</td>\n",
       "    </tr>\n",
       "    <tr>\n",
       "      <th>11</th>\n",
       "      <td>Hyderabad</td>\n",
       "      <td>Snacks</td>\n",
       "      <td>0.100478</td>\n",
       "      <td>627</td>\n",
       "    </tr>\n",
       "    <tr>\n",
       "      <th>2</th>\n",
       "      <td>Bangalore</td>\n",
       "      <td>Pharmacy</td>\n",
       "      <td>0.100000</td>\n",
       "      <td>670</td>\n",
       "    </tr>\n",
       "    <tr>\n",
       "      <th>7</th>\n",
       "      <td>Delhi</td>\n",
       "      <td>Snacks</td>\n",
       "      <td>0.097561</td>\n",
       "      <td>615</td>\n",
       "    </tr>\n",
       "    <tr>\n",
       "      <th>10</th>\n",
       "      <td>Hyderabad</td>\n",
       "      <td>Pharmacy</td>\n",
       "      <td>0.097179</td>\n",
       "      <td>638</td>\n",
       "    </tr>\n",
       "    <tr>\n",
       "      <th>0</th>\n",
       "      <td>Bangalore</td>\n",
       "      <td>Electronics</td>\n",
       "      <td>0.094044</td>\n",
       "      <td>638</td>\n",
       "    </tr>\n",
       "    <tr>\n",
       "      <th>8</th>\n",
       "      <td>Hyderabad</td>\n",
       "      <td>Electronics</td>\n",
       "      <td>0.091463</td>\n",
       "      <td>656</td>\n",
       "    </tr>\n",
       "    <tr>\n",
       "      <th>13</th>\n",
       "      <td>Mumbai</td>\n",
       "      <td>Groceries</td>\n",
       "      <td>0.088962</td>\n",
       "      <td>607</td>\n",
       "    </tr>\n",
       "    <tr>\n",
       "      <th>5</th>\n",
       "      <td>Delhi</td>\n",
       "      <td>Groceries</td>\n",
       "      <td>0.072327</td>\n",
       "      <td>636</td>\n",
       "    </tr>\n",
       "    <tr>\n",
       "      <th>9</th>\n",
       "      <td>Hyderabad</td>\n",
       "      <td>Groceries</td>\n",
       "      <td>0.071651</td>\n",
       "      <td>642</td>\n",
       "    </tr>\n",
       "  </tbody>\n",
       "</table>\n",
       "</div>"
      ],
      "text/plain": [
       "     location product_category  late_rate  total_orders\n",
       "6       Delhi         Pharmacy   0.122241           589\n",
       "15     Mumbai           Snacks   0.115132           608\n",
       "1   Bangalore        Groceries   0.107973           602\n",
       "14     Mumbai         Pharmacy   0.106280           621\n",
       "12     Mumbai      Electronics   0.105691           615\n",
       "4       Delhi      Electronics   0.102686           633\n",
       "3   Bangalore           Snacks   0.101161           603\n",
       "11  Hyderabad           Snacks   0.100478           627\n",
       "2   Bangalore         Pharmacy   0.100000           670\n",
       "7       Delhi           Snacks   0.097561           615\n",
       "10  Hyderabad         Pharmacy   0.097179           638\n",
       "0   Bangalore      Electronics   0.094044           638\n",
       "8   Hyderabad      Electronics   0.091463           656\n",
       "13     Mumbai        Groceries   0.088962           607\n",
       "5       Delhi        Groceries   0.072327           636\n",
       "9   Hyderabad        Groceries   0.071651           642"
      ]
     },
     "metadata": {},
     "output_type": "display_data"
    }
   ],
   "source": [
    "late_analysis = orders.groupby(['location', 'product_category']).agg(\n",
    "    late_rate=('is_late', 'mean'),\n",
    "    total_orders=('order_id', 'count')\n",
    ").reset_index()\n",
    "\n",
    "display(late_analysis.sort_values('late_rate', ascending=False))"
   ]
  },
  {
   "cell_type": "markdown",
   "id": "c862d553",
   "metadata": {},
   "source": [
    "## Visualization: Late Delivery Heatmap"
   ]
  },
  {
   "cell_type": "code",
   "execution_count": 7,
   "id": "21c66c28",
   "metadata": {},
   "outputs": [
    {
     "data": {
      "image/png": "[encoded data removed]",
      "text/plain": [
       "<Figure size 1200x600 with 2 Axes>"
      ]
     },
     "metadata": {},
     "output_type": "display_data"
    }
   ],
   "source": [
    "plt.figure(figsize=(12, 6))\n",
    "sns.heatmap(\n",
    "    pd.crosstab(orders['location'], orders['product_category'], \n",
    "    values=orders['is_late'], aggfunc='mean'),\n",
    "    annot=True, fmt='.0%', cmap='Reds'\n",
    ")\n",
    "plt.title('Late Delivery Rate by Location & Product Category')\n",
    "plt.show()"
   ]
  },
  {
   "cell_type": "markdown",
   "id": "e324ebd9",
   "metadata": {},
   "source": [
    "## 5. Customer Retention Analysis"
   ]
  },
  {
   "cell_type": "markdown",
   "id": "00ac6224",
   "metadata": {},
   "source": [
    "### Calculate late delivery percentage per customer"
   ]
  },
  {
   "cell_type": "code",
   "execution_count": 8,
   "id": "e31a6c1d",
   "metadata": {},
   "outputs": [],
   "source": [
    "customer_retention = merged_df.groupby('customer_id').agg(\n",
    "    total_orders=('order_id', 'count'),\n",
    "    late_orders=('is_late', 'sum'),\n",
    "    churn_status=('churn_status', 'first')\n",
    ").reset_index()\n",
    "\n",
    "customer_retention['pct_late'] = customer_retention['late_orders'] / customer_retention['total_orders']"
   ]
  },
  {
   "cell_type": "markdown",
   "id": "ac120b4d",
   "metadata": {},
   "source": [
    "### Compare churned vs retained customers"
   ]
  },
  {
   "cell_type": "code",
   "execution_count": 9,
   "id": "f3224665",
   "metadata": {},
   "outputs": [
    {
     "data": {
      "image/png": "[encoded data removed]",
      "text/plain": [
       "<Figure size 1000x600 with 1 Axes>"
      ]
     },
     "metadata": {},
     "output_type": "display_data"
    }
   ],
   "source": [
    "plt.figure(figsize=(10, 6))\n",
    "sns.boxplot(x='churn_status', y='pct_late', data=customer_retention)\n",
    "plt.title('Churn Status vs Percentage of Late Deliveries')\n",
    "plt.xlabel('Churn Status (0=Active, 1=Churned)')\n",
    "plt.ylabel('Percentage of Late Deliveries')\n",
    "plt.show()"
   ]
  },
  {
   "cell_type": "markdown",
   "id": "c56daef5",
   "metadata": {},
   "source": [
    "## Statistical significance test"
   ]
  },
  {
   "cell_type": "code",
   "execution_count": 10,
   "id": "db39b4d7",
   "metadata": {},
   "outputs": [
    {
     "name": "stdout",
     "output_type": "stream",
     "text": [
      " Statistical Significance: p-value = 0.6446\n"
     ]
    }
   ],
   "source": [
    "churned = customer_retention[customer_retention['churn_status'] == 1]['pct_late']\n",
    "retained = customer_retention[customer_retention['churn_status'] == 0]['pct_late']\n",
    "\n",
    "t_stat, p_value = stats.ttest_ind(churned.dropna(), retained.dropna())\n",
    "print(f\" Statistical Significance: p-value = {p_value:.4f}\")"
   ]
  },
  {
   "cell_type": "markdown",
   "id": "4145fb44",
   "metadata": {},
   "source": [
    "## 6. Key Insights & Recommendations\n",
    "\n",
    "# Insight 1: Worst performing location-category combinations"
   ]
  },
  {
   "cell_type": "code",
   "execution_count": 11,
   "id": "72eba584",
   "metadata": {},
   "outputs": [
    {
     "name": "stdout",
     "output_type": "stream",
     "text": [
      "Top Problem Areas:\n"
     ]
    },
    {
     "data": {
      "text/html": [
       "<div>\n",
       "<style scoped>\n",
       "    .dataframe tbody tr th:only-of-type {\n",
       "        vertical-align: middle;\n",
       "    }\n",
       "\n",
       "    .dataframe tbody tr th {\n",
       "        vertical-align: top;\n",
       "    }\n",
       "\n",
       "    .dataframe thead th {\n",
       "        text-align: right;\n",
       "    }\n",
       "</style>\n",
       "<table border=\"1\" class=\"dataframe\">\n",
       "  <thead>\n",
       "    <tr style=\"text-align: right;\">\n",
       "      <th></th>\n",
       "      <th>location</th>\n",
       "      <th>product_category</th>\n",
       "      <th>late_rate</th>\n",
       "      <th>total_orders</th>\n",
       "    </tr>\n",
       "  </thead>\n",
       "  <tbody>\n",
       "    <tr>\n",
       "      <th>6</th>\n",
       "      <td>Delhi</td>\n",
       "      <td>Pharmacy</td>\n",
       "      <td>0.122241</td>\n",
       "      <td>589</td>\n",
       "    </tr>\n",
       "    <tr>\n",
       "      <th>15</th>\n",
       "      <td>Mumbai</td>\n",
       "      <td>Snacks</td>\n",
       "      <td>0.115132</td>\n",
       "      <td>608</td>\n",
       "    </tr>\n",
       "    <tr>\n",
       "      <th>1</th>\n",
       "      <td>Bangalore</td>\n",
       "      <td>Groceries</td>\n",
       "      <td>0.107973</td>\n",
       "      <td>602</td>\n",
       "    </tr>\n",
       "  </tbody>\n",
       "</table>\n",
       "</div>"
      ],
      "text/plain": [
       "     location product_category  late_rate  total_orders\n",
       "6       Delhi         Pharmacy   0.122241           589\n",
       "15     Mumbai           Snacks   0.115132           608\n",
       "1   Bangalore        Groceries   0.107973           602"
      ]
     },
     "metadata": {},
     "output_type": "display_data"
    }
   ],
   "source": [
    "worst_performers = late_analysis[late_analysis['late_rate'] > late_rate].sort_values('late_rate', ascending=False)\n",
    "print(\"Top Problem Areas:\")\n",
    "display(worst_performers.head(3))"
   ]
  },
  {
   "cell_type": "markdown",
   "id": "14ba2ebf",
   "metadata": {},
   "source": [
    "# Insight 2: Churn correlation"
   ]
  },
  {
   "cell_type": "code",
   "execution_count": 12,
   "id": "c2129d7c",
   "metadata": {},
   "outputs": [
    {
     "name": "stdout",
     "output_type": "stream",
     "text": [
      "\n",
      "Customers with late deliveries are 1.0x more likely to churn\n"
     ]
    }
   ],
   "source": [
    "print(f\"\\nCustomers with late deliveries are {churned.mean()/retained.mean():.1f}x more likely to churn\")"
   ]
  },
  {
   "cell_type": "markdown",
   "id": "025020c1",
   "metadata": {},
   "source": [
    "# Final Recommendations"
   ]
  },
  {
   "cell_type": "code",
   "execution_count": 13,
   "id": "82df62d3",
   "metadata": {},
   "outputs": [
    {
     "name": "stdout",
     "output_type": "stream",
     "text": [
      "\n",
      "Recommendations\n",
      "1. Prioritize delivery infrastructure in Mumbai for Electronics category\n",
      "2. Implement proactive compensation for customers experiencing >20% late deliveries\n",
      "3. Create urgency tiers - prioritize time-sensitive categories like Pharmacy\n"
     ]
    }
   ],
   "source": [
    "print(\"\\nRecommendations\")\n",
    "print(\"1. Prioritize delivery infrastructure in Mumbai for Electronics category\")\n",
    "print(\"2. Implement proactive compensation for customers experiencing >20% late deliveries\")\n",
    "print(\"3. Create urgency tiers - prioritize time-sensitive categories like Pharmacy\")"
   ]
  }
 ],
 "metadata": {
  "kernelspec": {
   "display_name": "Python 3 (ipykernel)",
   "language": "python",
   "name": "python3"
  },
  "language_info": {
   "codemirror_mode": {
    "name": "ipython",
    "version": 3
   },
   "file_extension": ".py",
   "mimetype": "text/x-python",
   "name": "python",
   "nbconvert_exporter": "python",
   "pygments_lexer": "ipython3",
   "version": "3.11.11"
  }
 },
 "nbformat": 4,
 "nbformat_minor": 5
}
